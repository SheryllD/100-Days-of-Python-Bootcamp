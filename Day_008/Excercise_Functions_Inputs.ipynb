{
 "cells": [
  {
   "cell_type": "code",
   "execution_count": null,
   "metadata": {},
   "outputs": [
    {
     "name": "stdout",
     "output_type": "stream",
     "text": [
      "Hello Sheryll.\n",
      "How are you Sheryll?\n",
      "What is it like in Berlin?\n"
     ]
    }
   ],
   "source": [
    "# Functions with Inputs\n",
    "\n",
    "# def greet():\n",
    "#     print(\"Hello\")\n",
    "#     print(\"How are you?\")\n",
    "#     print(\"Isn't the weather nice?\")\n",
    "\n",
    "#greet()\n",
    "\n",
    "# Excercice Function that Allows for Inputs. \n",
    "\n",
    "def greet_with(name, location):\n",
    "    print(f\"Hello {name}.\")\n",
    "    print(f\"How are you {name}?\")\n",
    "    print(f\"What is it like in {location}?\")\n",
    "\n",
    "# Keyword arguments \n",
    "greet_with(name =\"Sheryll\", location= \"Berlin\")"
   ]
  },
  {
   "cell_type": "code",
   "execution_count": null,
   "metadata": {},
   "outputs": [
    {
     "name": "stdout",
     "output_type": "stream",
     "text": [
      "You have 1768 weeks left. \n",
      "You have 4056 weeks left. \n"
     ]
    }
   ],
   "source": [
    "# Excercise Weeks Left in Life. \n",
    "def life_in_weeks(age):\n",
    "    max_age = 90\n",
    "    life_in_weeks = 52\n",
    "    years_left = max_age - age\n",
    "    weeks_left = years_left * life_in_weeks\n",
    "\n",
    "    print(f\"You have {weeks_left} weeks left. \")\n",
    "\n",
    "life_in_weeks(56)\n",
    "life_in_weeks(12)"
   ]
  },
  {
   "cell_type": "code",
   "execution_count": null,
   "metadata": {},
   "outputs": [
    {
     "name": "stdout",
     "output_type": "stream",
     "text": [
      "Love Score = 42\n"
     ]
    }
   ],
   "source": [
    "# Excercise Love Calculator \n",
    "\n",
    "def calculate_love_score(name1, name2): \n",
    "    combined_names = (name1 + \" \" + name2).lower()\n",
    "\n",
    "    true_count = sum(combined_names.count(letter) for letter in \"true\")\n",
    "    love_count = sum(combined_names.count(letter) for letter in \"love\")\n",
    "\n",
    "    love_score = int(f\"{true_count}{love_count}\")\n",
    "    \n",
    "    print(f\"Love Score = {love_score}\")\n",
    "\n",
    "calculate_love_score (\"Kanye West\", \"Kim Kardashian\")"
   ]
  }
 ],
 "metadata": {
  "kernelspec": {
   "display_name": "base",
   "language": "python",
   "name": "python3"
  },
  "language_info": {
   "codemirror_mode": {
    "name": "ipython",
    "version": 3
   },
   "file_extension": ".py",
   "mimetype": "text/x-python",
   "name": "python",
   "nbconvert_exporter": "python",
   "pygments_lexer": "ipython3",
   "version": "3.12.7"
  }
 },
 "nbformat": 4,
 "nbformat_minor": 2
}
