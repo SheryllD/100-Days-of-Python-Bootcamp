{
 "cells": [
  {
   "cell_type": "markdown",
   "metadata": {},
   "source": [
    "# Project: Caesar Cipher "
   ]
  },
  {
   "cell_type": "code",
   "execution_count": null,
   "metadata": {},
   "outputs": [
    {
     "name": "stdout",
     "output_type": "stream",
     "text": [
      "Here is your encoded result: qnuuxiqnuuxiqnuux\n"
     ]
    }
   ],
   "source": [
    "### TODO-1: Create a function called `encrypt()` that takes `original_text` and `shift_amount` as 2 inputs.\n",
    "### TODO-2: Inside the 'encrypt' function, shift each letter of the `original_text` forwards in the alphabet by the `shift_amount` and print the encrypted text.\n",
    "#You can use the built-in Python `index()` function to find out the position of an item in a list. e.g.\n",
    "### TODO-3: Call the `encrypt()` function and pass in the user inputs. You should be able to test the code and encrypt a message.\n",
    "### TODO-4: What happens if you try to shift the letter 'z' forwards by 9? Can you fix the code?\n",
    "\n",
    "alphabet = [\" \",'a', 'b', 'c', 'd', 'e', 'f', 'g', 'h', 'i', 'j', 'k', 'l', 'm', 'n', 'o', 'p', 'q', 'r', 's', 't', 'u', 'v', 'w', 'x', 'y', 'z']\n",
    "\n",
    "direction = input(\"Type 'encode' to encrypt, type 'decode' to decrypt:\\n\").lower()\n",
    "text = input(\"Type your message: \").lower()\n",
    "shift = int(input(\"Type the shift number: \"))\n",
    "\n",
    "def encrypt(original_text, shift_amount): \n",
    "    cipher_text = \"\"\n",
    "    for letter in original_text: \n",
    "        shifted_position = alphabet.index(letter) + shift_amount\n",
    "        shifted_position %= len(alphabet)\n",
    "        cipher_text += alphabet[shifted_position]\n",
    "    print(f\"Here is your encoded result: {cipher_text}\")\n",
    "\n",
    "encrypt(original_text=text, shift_amount=shift)\n"
   ]
  }
 ],
 "metadata": {
  "kernelspec": {
   "display_name": "base",
   "language": "python",
   "name": "python3"
  },
  "language_info": {
   "codemirror_mode": {
    "name": "ipython",
    "version": 3
   },
   "file_extension": ".py",
   "mimetype": "text/x-python",
   "name": "python",
   "nbconvert_exporter": "python",
   "pygments_lexer": "ipython3",
   "version": "3.12.7"
  }
 },
 "nbformat": 4,
 "nbformat_minor": 2
}
