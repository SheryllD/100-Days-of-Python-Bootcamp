{
 "cells": [
  {
   "cell_type": "code",
   "execution_count": null,
   "metadata": {},
   "outputs": [],
   "source": [
    "# Project: Blind Auction Project\n",
    "#TODO-1: Ask the user for input\n",
    "#TODO-2: Save data into dictionary {name: price}\n",
    "#TODO-3: Whether if new bids need to be added\n",
    "#TODO-4: Compare bids in dictionary"
   ]
  },
  {
   "cell_type": "code",
   "execution_count": null,
   "metadata": {},
   "outputs": [],
   "source": []
  }
 ],
 "metadata": {
  "language_info": {
   "name": "python"
  }
 },
 "nbformat": 4,
 "nbformat_minor": 2
}
