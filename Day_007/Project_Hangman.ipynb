{
 "cells": [
  {
   "cell_type": "code",
   "execution_count": null,
   "metadata": {},
   "outputs": [
    {
     "name": "stdout",
     "output_type": "stream",
     "text": [
      "coding\n",
      "______\n",
      "______\n",
      "_o____\n",
      "_od___\n",
      "_odi__\n",
      "_odin_\n",
      "_oding\n",
      "_oding\n",
      "coding\n"
     ]
    }
   ],
   "source": [
    "# Project: Hangman \n",
    "import random\n",
    "word_list = [\"principles\", \"artificial\", \"python\", \"computer\", \"learning\", \"love\", \"coding\"]\n",
    "\n",
    "\n",
    "\n",
    "### TODO-1  Randomly choose a word from the word_list and assign it to a variable called `chosen_word`. Then print it.\n",
    "chosen_word = random.choice(word_list)\n",
    "print(chosen_word)\n",
    "\n",
    "placeholder = \"\"\n",
    "word_length = len(chosen_word)\n",
    "for position in range (word_length):\n",
    "    placeholder += \"_\"\n",
    "print(placeholder)\n",
    "\n",
    "game_over = False \n",
    "correct_letters = []\n",
    "\n",
    "### TODO-2 Ask the user to guess a letter and assign their answer to a variable called `guess`. Make the String stored in `guess` lowercase.\n",
    "\n",
    "while not game_over:\n",
    "    guess = input(\"Guess a letter: \").lower()\n",
    "\n",
    "    display = \"\"\n",
    "\n",
    "    for letter in chosen_word: \n",
    "        if letter == guess: \n",
    "            display += letter\n",
    "            correct_letters.append(guess) \n",
    "        elif letter in correct_letters:\n",
    "            display += letter\n",
    "        else:\n",
    "            display += \"_\"\n",
    "\n",
    "    print(display)\n",
    "\n",
    "if \"_\" not in display:\n",
    "    game_over = True \n",
    "    print(\"You win.\") \n",
    "\n",
    "### TODO-3 Check if the letter the user guessed `guess` is one of the letters in the `chosen_word`. Loop through each of the letters in the `chosen_word`  and print \"Right\" if the letter is a match, \"Wrong\" if it's not.\n",
    "\n",
    "\n",
    "\n"
   ]
  },
  {
   "cell_type": "code",
   "execution_count": 5,
   "metadata": {},
   "outputs": [],
   "source": [
    "#- Create an empty string called \"display\".\n",
    "#- Loop through each letter in the `chosen_word`\n",
    "#- If the letter at that position matches `guess` then reveal that letter in the `display` at that position.\n",
    "#- e.g. If the user guessed \"p\" and the chosen word was \"apple\", then `display` should be `_ p p _ _`.\n",
    "#- Print `display` and you should see the guessed letter in the correct position.\n",
    "#- But every letter that is not a match is represented with a \"_\".\n",
    "\n"
   ]
  }
 ],
 "metadata": {
  "kernelspec": {
   "display_name": "base",
   "language": "python",
   "name": "python3"
  },
  "language_info": {
   "codemirror_mode": {
    "name": "ipython",
    "version": 3
   },
   "file_extension": ".py",
   "mimetype": "text/x-python",
   "name": "python",
   "nbconvert_exporter": "python",
   "pygments_lexer": "ipython3",
   "version": "3.12.7"
  }
 },
 "nbformat": 4,
 "nbformat_minor": 2
}
