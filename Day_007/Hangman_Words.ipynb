{
 "cells": [
  {
   "cell_type": "code",
   "execution_count": null,
   "metadata": {},
   "outputs": [],
   "source": [
    "hangman_words = [\"apple\", \"grape\", \"table\", \"chair\", \"zebra\", \"ocean\", \"piano\", \n",
    "    \"happy\", \"smile\", \"house\", \"bread\", \"flute\", \"cloud\", \"train\", \"dance\", \"elephant\", \"giraffe\", \"jungle\", \"sunshine\", \"coconut\", \"lantern\", \n",
    "    \"blanket\", \"diamond\", \"painter\", \"whisper\", \"fortune\", \"holiday\", \"firefly\", \"penguin\", \"captain\", \"elephant\", \"giraffe\", \"jungle\", \"sunshine\", \"coconut\", \"lantern\", \n",
    "    \"blanket\", \"diamond\", \"painter\", \"whisper\", \"fortune\", \"holiday\", \n",
    "    \"firefly\", \"penguin\", \"captain\"]"
   ]
  }
 ],
 "metadata": {
  "language_info": {
   "name": "python"
  }
 },
 "nbformat": 4,
 "nbformat_minor": 2
}
